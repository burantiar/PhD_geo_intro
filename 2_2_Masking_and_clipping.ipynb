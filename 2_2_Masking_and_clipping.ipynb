{
  "cells": [
    {
      "cell_type": "markdown",
      "source": [
        "Masks are usually binary images where each pixel corresponds to one of two classes: 1 is for the object we are interested in and 0 is for background (including other objects we don't need). For multiclass segmentation masks with more values are used."
      ],
      "metadata": {
        "id": "2wVMGDBlo9lp"
      }
    },
    {
      "cell_type": "code",
      "source": [
        "from google.colab import drive\n",
        "drive.mount('/content/drive')"
      ],
      "metadata": {
        "id": "_oj53Jvtqkx5",
        "colab": {
          "base_uri": "https://localhost:8080/"
        },
        "outputId": "93ac17b0-2333-41c8-dbce-f9dda472c998"
      },
      "execution_count": 1,
      "outputs": [
        {
          "output_type": "stream",
          "name": "stdout",
          "text": [
            "Mounted at /content/drive\n"
          ]
        }
      ]
    },
    {
      "cell_type": "code",
      "source": [
        "! pip install gdal"
      ],
      "metadata": {
        "colab": {
          "base_uri": "https://localhost:8080/"
        },
        "id": "nl8p4pa_Qf__",
        "outputId": "9d8aba74-ae13-454d-c977-9e4e9779f7e0"
      },
      "execution_count": 14,
      "outputs": [
        {
          "output_type": "stream",
          "name": "stdout",
          "text": [
            "Looking in indexes: https://pypi.org/simple, https://us-python.pkg.dev/colab-wheels/public/simple/\n",
            "Requirement already satisfied: gdal in /usr/local/lib/python3.7/dist-packages (2.2.2)\n"
          ]
        }
      ]
    },
    {
      "cell_type": "code",
      "source": [
        "import numpy as np\n",
        "\n",
        "from osgeo import ogr, gdal_array\n",
        "import gdal\n",
        "\n",
        "%matplotlib inline\n",
        "import matplotlib.pyplot as plt"
      ],
      "metadata": {
        "id": "WxgJ0aEFqnHP"
      },
      "execution_count": 16,
      "outputs": []
    },
    {
      "cell_type": "code",
      "execution_count": 17,
      "metadata": {
        "id": "HUwgWNPfkXoe"
      },
      "outputs": [],
      "source": [
        "np.random.seed(100)"
      ]
    },
    {
      "cell_type": "markdown",
      "source": [
        "# Image mask"
      ],
      "metadata": {
        "id": "TQg37g7cyMYn"
      }
    },
    {
      "cell_type": "code",
      "execution_count": 18,
      "metadata": {
        "id": "HkJNZ4FckXog",
        "colab": {
          "base_uri": "https://localhost:8080/",
          "height": 232
        },
        "outputId": "7a38c1b1-7638-43c7-e411-59b0e1af32de"
      },
      "outputs": [
        {
          "output_type": "error",
          "ename": "AttributeError",
          "evalue": "ignored",
          "traceback": [
            "\u001b[0;31m---------------------------------------------------------------------------\u001b[0m",
            "\u001b[0;31mAttributeError\u001b[0m                            Traceback (most recent call last)",
            "\u001b[0;32m<ipython-input-18-c80527af545d>\u001b[0m in \u001b[0;36m<module>\u001b[0;34m()\u001b[0m\n\u001b[1;32m      2\u001b[0m \u001b[0mdataset\u001b[0m \u001b[0;34m=\u001b[0m \u001b[0mogr\u001b[0m\u001b[0;34m.\u001b[0m\u001b[0mOpen\u001b[0m\u001b[0;34m(\u001b[0m\u001b[0;34m'Mask_river.shp'\u001b[0m\u001b[0;34m)\u001b[0m\u001b[0;34m\u001b[0m\u001b[0;34m\u001b[0m\u001b[0m\n\u001b[1;32m      3\u001b[0m \u001b[0;34m\u001b[0m\u001b[0m\n\u001b[0;32m----> 4\u001b[0;31m \u001b[0mlayer\u001b[0m \u001b[0;34m=\u001b[0m \u001b[0mdataset\u001b[0m\u001b[0;34m.\u001b[0m\u001b[0mGetLayerByIndex\u001b[0m\u001b[0;34m(\u001b[0m\u001b[0;36m0\u001b[0m\u001b[0;34m)\u001b[0m\u001b[0;34m\u001b[0m\u001b[0;34m\u001b[0m\u001b[0m\n\u001b[0m\u001b[1;32m      5\u001b[0m \u001b[0;34m\u001b[0m\u001b[0m\n\u001b[1;32m      6\u001b[0m \u001b[0;31m## Open the image\u001b[0m\u001b[0;34m\u001b[0m\u001b[0;34m\u001b[0m\u001b[0;34m\u001b[0m\u001b[0m\n",
            "\u001b[0;31mAttributeError\u001b[0m: 'NoneType' object has no attribute 'GetLayerByIndex'"
          ]
        }
      ],
      "source": [
        "## Open shape file\n",
        "dataset = ogr.Open('Mask_river.shp')\n",
        "\n",
        "layer = dataset.GetLayerByIndex(0)\n",
        "\n",
        "## Open the image\n",
        "raster_ds = gdal.Open('South_coast.tif', gdal.GA_ReadOnly)\n",
        "\n",
        "## Fetch number of rows and columns & projection and extent\n",
        "ncol = raster_ds.RasterXSize\n",
        "nrow = raster_ds.RasterYSize\n",
        "proj = raster_ds.GetProjectionRef()\n",
        "ext = raster_ds.GetGeoTransform()\n",
        "\n",
        "raster_ds = None\n",
        "\n",
        "## Create the raster mask\n",
        "driver = gdal.GetDriverByName('GTiff')\n",
        "\n",
        "out_raster_ds = driver.Create('river_mask.gtif', ncol, nrow, 1, gdal.GDT_Byte)\n",
        "\n",
        "\n",
        "## Set the set projection and extents\n",
        "out_raster_ds.SetProjection(proj)\n",
        "out_raster_ds.SetGeoTransform(ext)\n",
        "\n",
        "## Fill our output band with the 0 \n",
        "nodata = out_raster_ds.GetRasterBand(1)\n",
        "nodata.Fill(0)\n",
        "\n",
        "gdal.RasterizeLayer(out_raster_ds,[1],layer,None, None, [0], ['ALL_TOUCHED=TRUE', 'ATTRIBUTE=ID'])\n",
        "\n",
        "## Close dataset\n",
        "out_raster_ds = None"
      ]
    },
    {
      "cell_type": "code",
      "execution_count": null,
      "metadata": {
        "id": "fUIhL7-KkXoh"
      },
      "outputs": [],
      "source": [
        "# Tell GDAL to throw Python exceptions, and register all drivers\n",
        "gdal.UseExceptions()\n",
        "gdal.AllRegister()\n",
        "\n",
        "## Let's open the created mask\n",
        "mask_ds = gdal.Open(directory + 'river_mask.gtif', gdal.GA_ReadOnly)\n",
        "\n",
        "mask = mask_ds.GetRasterBand(1).ReadAsArray().astype(np.uint8)\n",
        "\n",
        "## show the data\n",
        "plt.imshow(mask)\n",
        "plt.show()"
      ]
    },
    {
      "cell_type": "code",
      "execution_count": null,
      "metadata": {
        "id": "tDf0SROekXoi"
      },
      "outputs": [],
      "source": [
        "## How does the river look?\n",
        "img_ds = gdal.Open(directory + 'South_coast.tif', gdal.GA_ReadOnly)\n",
        "img = img_ds.GetRasterBand(1).ReadAsArray().astype(np.uint8)\n",
        "\n",
        "mask_ds = gdal.Open(directory + 'river_mask.gtif', gdal.GA_ReadOnly)\n",
        "mask = mask_ds.GetRasterBand(1).ReadAsArray().astype(np.uint8)\n",
        "\n",
        "## multiply image and mask to combine them\n",
        "new_data = mask * img\n",
        "\n",
        "## show the data\n",
        "plt.imshow(new_data)\n",
        "plt.show()"
      ]
    },
    {
      "cell_type": "markdown",
      "source": [
        "# Clip image"
      ],
      "metadata": {
        "id": "xUUEHx62x_0W"
      }
    },
    {
      "cell_type": "markdown",
      "source": [
        "What if we need not only get the object but also crop the image to the object boundary?"
      ],
      "metadata": {
        "id": "qPkstsGD2VLJ"
      }
    },
    {
      "cell_type": "code",
      "source": [
        "!pip install rasterio\n",
        "!pip install geopandas"
      ],
      "metadata": {
        "id": "547OCiwnyRgK"
      },
      "execution_count": null,
      "outputs": []
    },
    {
      "cell_type": "code",
      "source": [
        "import rasterio\n",
        "import rasterio.mask as msk\n",
        "from rasterio import plot\n",
        "import fiona"
      ],
      "metadata": {
        "id": "MYmrbJfVx9Ye"
      },
      "execution_count": null,
      "outputs": []
    },
    {
      "cell_type": "code",
      "execution_count": null,
      "metadata": {
        "id": "6QlM4sqZkXoj"
      },
      "outputs": [],
      "source": [
        "def cliptoshp(Rast, shape_file):\n",
        "    \"\"\"\n",
        "    This function will clip a given raster to the shape file\n",
        "    \n",
        "    Parameters:\n",
        "    Rast is the input raster that you want to clip\n",
        "    shape_file store the shape for clipping\n",
        "    \n",
        "    Returns the clipped raster\n",
        "    \"\"\"\n",
        "\n",
        "    # open up the shape file\n",
        "    with fiona.open(shape_file,'r') as shapefile:\n",
        "        shapes = [feature[\"geometry\"] for feature in shapefile]\n",
        "    # open up our new raster and crop it to the shape file\n",
        "    with rasterio.open(Rast) as src:\n",
        "        out_image, out_transform = msk.mask(src, shapes, crop=True)\n",
        "        out_meta = src.meta\n",
        "    out_meta.update({\"driver\": \"GTiff\",\n",
        "                 \"height\": out_image.shape[1],\n",
        "                 \"width\": out_image.shape[2],\n",
        "                 \"transform\": out_transform},\n",
        "                  nodata=float('nan'))\n",
        "    # save our clipped raster as clipped\n",
        "    clippedfile = str(Rast[:-4] + '_clipped.tif')\n",
        "    with rasterio.open(clippedfile, \"w\", **out_meta) as dest:\n",
        "        dest.write(out_image)\n"
      ]
    },
    {
      "cell_type": "code",
      "source": [
        "raster = directory + 'South_coast.tif'\n",
        "shape_file = directory + 'Mask_river.shp'\n",
        "\n",
        "## clip the image\n",
        "cliptoshp(raster, shape_file)\n",
        "\n",
        "## show the result\n",
        "clipped = rasterio.open(directory + 'South_coast_clipped.tif')\n",
        "plot.show(clipped)"
      ],
      "metadata": {
        "id": "rIPu-bqOzpov"
      },
      "execution_count": null,
      "outputs": []
    }
  ],
  "metadata": {
    "kernelspec": {
      "display_name": "Python 3 (ipykernel)",
      "language": "python",
      "name": "python3"
    },
    "language_info": {
      "codemirror_mode": {
        "name": "ipython",
        "version": 3
      },
      "file_extension": ".py",
      "mimetype": "text/x-python",
      "name": "python",
      "nbconvert_exporter": "python",
      "pygments_lexer": "ipython3",
      "version": "3.7.11"
    },
    "colab": {
      "name": "2_2_Masking_and_clipping.ipynb",
      "provenance": [],
      "collapsed_sections": []
    }
  },
  "nbformat": 4,
  "nbformat_minor": 0
}