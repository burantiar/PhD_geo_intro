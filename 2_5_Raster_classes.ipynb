{
  "cells": [
    {
      "cell_type": "markdown",
      "metadata": {
        "id": "I2N5XBfm-ALX"
      },
      "source": [
        "Lets convert a shapefile to a raster based on a value in a field."
      ]
    },
    {
      "cell_type": "markdown",
      "metadata": {
        "id": "m8mVyAqn-ALa"
      },
      "source": [
        "Inspect the data in QGIS/GIS"
      ]
    },
    {
      "cell_type": "code",
      "source": [
        "from google.colab import drive\n",
        "drive.mount('/content/drive')"
      ],
      "metadata": {
        "id": "EzJBRSqQ-76x",
        "outputId": "1def26c9-d970-4464-b9b1-7e822c7d47ce",
        "colab": {
          "base_uri": "https://localhost:8080/"
        }
      },
      "execution_count": null,
      "outputs": [
        {
          "output_type": "stream",
          "name": "stdout",
          "text": [
            "Mounted at /content/drive\n"
          ]
        }
      ]
    },
    {
      "cell_type": "code",
      "source": [
        "## some imports\n",
        "import numpy as np\n",
        "from osgeo import ogr, gdal_array\n",
        "import gdal\n",
        "import matplotlib.pyplot as plt"
      ],
      "metadata": {
        "id": "8HG6vwHe-93a"
      },
      "execution_count": null,
      "outputs": []
    },
    {
      "cell_type": "code",
      "execution_count": null,
      "metadata": {
        "id": "5svTGbxw-ALb"
      },
      "outputs": [],
      "source": [
        "\n",
        "\n",
        "# open shapefile\n",
        "dataset = ogr.Open('training.shp')\n",
        "\n",
        "layer = dataset.GetLayerByIndex(0)\n",
        "\n",
        "## open the image\n",
        "raster_ds = gdal.Open('South_coast.tif', gdal.GA_ReadOnly)\n",
        "\n",
        "# Fetch number of rows and columns & projection and extent\n",
        "ncol = raster_ds.RasterXSize\n",
        "nrow = raster_ds.RasterYSize\n",
        "proj = raster_ds.GetProjectionRef()\n",
        "ext = raster_ds.GetGeoTransform()\n",
        "\n",
        "raster_ds = None\n",
        "\n",
        "# Create the raster\n",
        "driver = gdal.GetDriverByName('GTiff')\n",
        "\n",
        "out_raster_ds = driver.Create('training_mask.gtif', ncol, nrow, 1, gdal.GDT_Byte)\n",
        "\n",
        "\n",
        "# Set the set projection and extents\n",
        "out_raster_ds.SetProjection(proj)\n",
        "out_raster_ds.SetGeoTransform(ext)\n",
        "\n",
        "# Fill our output band with the 0 \n",
        "nodata = out_raster_ds.GetRasterBand(1)\n",
        "nodata.Fill(0)\n",
        "\n",
        "gdal.RasterizeLayer(out_raster_ds,[1],layer,None, None, [0], ['ALL_TOUCHED=TRUE', 'ATTRIBUTE=ID'])\n",
        "\n",
        "# Close dataset\n",
        "out_raster_ds = None\n"
      ]
    },
    {
      "cell_type": "markdown",
      "metadata": {
        "id": "IqYPSo5j-ALd"
      },
      "source": [
        "Let's take a look at the classes - we need numpy"
      ]
    },
    {
      "cell_type": "code",
      "execution_count": null,
      "metadata": {
        "id": "lqF2os2a-ALd",
        "colab": {
          "base_uri": "https://localhost:8080/"
        },
        "outputId": "3c075815-20ea-497c-ca43-af15500834a8"
      },
      "outputs": [
        {
          "output_type": "stream",
          "name": "stdout",
          "text": [
            "Image Shape  (519, 751)\n",
            "[0 1 2 3 4 5 6 7]\n",
            "\n",
            "class contains:\n",
            "367825\n",
            "class contains:\n",
            "10261\n",
            "class contains:\n",
            "5202\n",
            "class contains:\n",
            "2428\n",
            "class contains:\n",
            "2951\n",
            "class contains:\n",
            "541\n",
            "class contains:\n",
            "242\n",
            "class contains:\n",
            "319\n",
            "class 0 contains:  367825\n",
            "class 1 (water AOI) contains:  10261\n",
            "367825 pixels in class 0\n",
            "10261 pixels in class 1\n",
            "5202 pixels in class 2\n",
            "2428 pixels in class 3\n",
            "2951 pixels in class 4\n",
            "541 pixels in class 5\n",
            "242 pixels in class 6\n",
            "319 pixels in class 7\n",
            "\n",
            "class 0 contains 367825 pixels\n",
            "class 1 contains 10261 pixels\n",
            "class 2 contains 5202 pixels\n",
            "class 3 contains 2428 pixels\n",
            "class 4 contains 2951 pixels\n",
            "class 5 contains 541 pixels\n",
            "class 6 contains 242 pixels\n",
            "class 7 contains 319 pixels\n"
          ]
        }
      ],
      "source": [
        "## open the mask we created\n",
        "mask_ds = gdal.Open('training_mask.gtif', gdal.GA_ReadOnly)\n",
        "\n",
        "mask = mask_ds.GetRasterBand(1).ReadAsArray()\n",
        "print(\"Image Shape \", mask.shape)\n",
        "\n",
        "# pixels in each class?\n",
        "classes = np.unique(mask)\n",
        "print(classes)\n",
        "print()\n",
        "\n",
        "# Iterate over all class labels in the image, printing out some information\n",
        "lspixel = []\n",
        "for data in classes:\n",
        "    maskpixels = (mask == data).sum()\n",
        "    print(\"class contains:\")\n",
        "    print(maskpixels)\n",
        "    lspixel.append(maskpixels)\n",
        "\n",
        "print(\"class 0 contains: \", lspixel[0])\n",
        "print(\"class 1 (water AOI) contains: \", lspixel[1]) \n",
        "\n",
        "## Think about how could we get all the classes?\n",
        "for i in range(0,len(lspixel)):\n",
        "    print(lspixel[i], \"pixels in class\", i)\n",
        "\n",
        "print()\n",
        "\n",
        "## remember the better practice?\n",
        "for i, data in enumerate(classes):\n",
        "    maskpixels = (mask == data).sum()\n",
        "    print(\"class \" + str(i) + \" contains \" + str(maskpixels) + \" pixels\")\n"
      ]
    },
    {
      "cell_type": "markdown",
      "metadata": {
        "id": "XAsoK0An-ALe"
      },
      "source": [
        "Plot this rasterized shapefile"
      ]
    },
    {
      "cell_type": "code",
      "execution_count": null,
      "metadata": {
        "id": "ZuLKGAT8-ALf",
        "colab": {
          "base_uri": "https://localhost:8080/",
          "height": 258
        },
        "outputId": "71600ef3-92ac-4c13-9a29-bbc122cdf7fb"
      },
      "outputs": [
        {
          "output_type": "display_data",
          "data": {
            "text/plain": [
              "<Figure size 432x288 with 2 Axes>"
            ],
            "image/png": "[encoded data removed]"
          },
          "metadata": {
            "needs_background": "light"
          }
        }
      ],
      "source": [
        "%matplotlib inline   \n",
        "\n",
        "# Tell GDAL to throw Python exceptions, and register all drivers\n",
        "gdal.UseExceptions()\n",
        "gdal.AllRegister()\n",
        "\n",
        "## open the mask again\n",
        "mask_ds = gdal.Open('training_mask.gtif', gdal.GA_ReadOnly)\n",
        "\n",
        "mask = mask_ds.GetRasterBand(1).ReadAsArray().astype(np.uint8)\n",
        "\n",
        "#### show the data\n",
        "plt.imshow(mask)\n",
        "plt.colorbar() ## more here https://matplotlib.org/api/_as_gen/matplotlib.pyplot.colorbar.html\n",
        "plt.show()"
      ]
    },
    {
      "cell_type": "code",
      "execution_count": null,
      "metadata": {
        "id": "wtwqBjCq-ALf",
        "colab": {
          "base_uri": "https://localhost:8080/"
        },
        "outputId": "ecad34be-5828-4584-ff23-62d174f157f2"
      },
      "outputs": [
        {
          "output_type": "stream",
          "name": "stdout",
          "text": [
            "number of samples 21944\n"
          ]
        }
      ],
      "source": [
        "n_samples = (mask > 0).sum()\n",
        "print (\"number of samples\", n_samples)"
      ]
    },
    {
      "cell_type": "markdown",
      "metadata": {
        "id": "HwZ39VpM-ALg"
      },
      "source": [
        "Remember the river mask data sheet... similar thing going on here!"
      ]
    },
    {
      "cell_type": "code",
      "execution_count": null,
      "metadata": {
        "id": "aImA7yqA-ALg"
      },
      "outputs": [],
      "source": [
        ""
      ]
    }
  ],
  "metadata": {
    "kernelspec": {
      "display_name": "Python 3",
      "name": "python3"
    },
    "language_info": {
      "name": "python"
    },
    "colab": {
      "name": "2_5_Raster_classes.ipynb",
      "provenance": []
    }
  },
  "nbformat": 4,
  "nbformat_minor": 0
}