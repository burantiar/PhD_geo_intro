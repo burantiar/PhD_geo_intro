{
  "cells": [
    {
      "cell_type": "code",
      "source": [
        "from google.colab import drive\n",
        "drive.mount('/content/drive')"
      ],
      "metadata": {
        "id": "B-7cBzVf4IhT",
        "outputId": "b9631852-fc04-4bb9-9dcf-857629c4b09e",
        "colab": {
          "base_uri": "https://localhost:8080/"
        }
      },
      "execution_count": 1,
      "outputs": [
        {
          "output_type": "stream",
          "name": "stdout",
          "text": [
            "Mounted at /content/drive\n"
          ]
        }
      ]
    },
    {
      "cell_type": "code",
      "execution_count": 2,
      "metadata": {
        "id": "6Y0ENDEK3LOM"
      },
      "outputs": [],
      "source": [
        "from osgeo import osr, ogr\n",
        "import gdal"
      ]
    },
    {
      "cell_type": "markdown",
      "metadata": {
        "id": "Uff1LzwA3LOP"
      },
      "source": [
        "We will build two helper functions, firstly to build the boundary of a raster file. Typically this would be a satellite image but it does not have to be"
      ]
    },
    {
      "cell_type": "code",
      "execution_count": 3,
      "metadata": {
        "id": "81Ho7Tj13LOQ"
      },
      "outputs": [],
      "source": [
        "def build_bounds(coords, srs, name):\n",
        "    ## Function to build geojson polygon from ordered coordinate set, projection and output name\n",
        "\n",
        "    print(\"Creating polygon\")\n",
        "    # Create ring\n",
        "    ring = ogr.Geometry(ogr.wkbLinearRing)\n",
        "    for i in range (0,len(coords)):\n",
        "        ring.AddPoint(coords[i][0], coords[i][1])\n",
        "\n",
        "    # Create polygon\n",
        "    poly = ogr.Geometry(ogr.wkbPolygon)\n",
        "    poly.AddGeometry(ring)\n",
        "\n",
        "\n",
        "    # Create the output Driver\n",
        "    outDriver = ogr.GetDriverByName('GeoJSON')\n",
        "\n",
        "    # Create the output GeoJSON\n",
        "    outDataSource = outDriver.CreateDataSource(name)\n",
        "    outLayer = outDataSource.CreateLayer(name, srs, geom_type=ogr.wkbPolygon )\n",
        "\n",
        "    # Get the output Layer's Feature Definition\n",
        "    featureDefn = outLayer.GetLayerDefn()\n",
        "\n",
        "    # create a new feature\n",
        "    outFeature = ogr.Feature(featureDefn)\n",
        "\n",
        "    # Set new geometry\n",
        "    outFeature.SetGeometry(poly)\n",
        "\n",
        "    # Add new feature to output Layer\n",
        "    outLayer.CreateFeature(outFeature)\n",
        "\n",
        "    # dereference the feature\n",
        "    outFeature = None\n",
        "\n",
        "    # Save and close DataSources\n",
        "    outDataSource = None\n",
        "\n",
        "    print('Done')\n",
        "    \n",
        "    return None"
      ]
    },
    {
      "cell_type": "markdown",
      "metadata": {
        "id": "w3CLK1wv3LOS"
      },
      "source": [
        "Secondly we will read in our Raster dataset and extract the information about its projection & extents"
      ]
    },
    {
      "cell_type": "code",
      "execution_count": 4,
      "metadata": {
        "id": "us_RrQ4j3LOS"
      },
      "outputs": [],
      "source": [
        "def read_raster(raster_in):\t\n",
        "    ## Open raster_in as ds (abbreviation for dataset)\n",
        "    ds = gdal.Open(raster_in)\n",
        "    \n",
        "    ## Get the projection of the raster and print out its EPSG code\n",
        "    prj=ds.GetProjection()\n",
        "    srs=osr.SpatialReference(wkt=prj)\n",
        "    print(\"EPSG code: \", srs.GetAttrValue('authority', 1))\n",
        "\n",
        "    ## using GetGeoTransform we can get the upper left X and upper left y coordinates\n",
        "    ulx, xres, xskew, uly, yskew, yres  = ds.GetGeoTransform()\n",
        "    \n",
        "    ## Calculate lower right x and lower right y we have the coordinates to build a polygon\n",
        "    ## these values will be returned and be inputs into build bounds\n",
        "    lrx = ulx + (ds.RasterXSize * xres)\n",
        "    lry = uly + (ds.RasterYSize * yres)\n",
        "\n",
        "    ## rows and columns of the imagery (if needed)\n",
        "    cols = ds.RasterXSize\n",
        "    rows = ds.RasterYSize\n",
        "\n",
        "    ## print it all out to command line\n",
        "    print(\"Number of columns: \" + str(cols))\n",
        "    print(\"Number of rows: \" + str(rows))\n",
        "\n",
        "    print(\"___\")\n",
        "    print(\"upper left x, upper left y, lower right x, lower right y:\")\n",
        "    print(ulx)\n",
        "    print(uly)\n",
        "    print(lrx)\n",
        "    print(lry)\n",
        "\n",
        "    coords = [(ulx,lry), (ulx,uly), (lrx,uly), (lrx,lry)]\n",
        "\n",
        "    print(\"coords:\")\n",
        "    print(coords)\n",
        "    return coords, srs"
      ]
    },
    {
      "cell_type": "code",
      "execution_count": 5,
      "metadata": {
        "id": "T0lA_Tnk3LOU",
        "outputId": "2c594c22-d165-4bbc-855e-b9e9b84a49ae",
        "colab": {
          "base_uri": "https://localhost:8080/"
        }
      },
      "outputs": [
        {
          "output_type": "stream",
          "name": "stdout",
          "text": [
            "EPSG code:  32630\n",
            "Number of columns: 3847\n",
            "Number of rows: 2272\n",
            "___\n",
            "upper left x, upper left y, lower right x, lower right y:\n",
            "600140.0\n",
            "5626000.0\n",
            "638610.0\n",
            "5603280.0\n",
            "coords:\n",
            "[(600140.0, 5603280.0), (600140.0, 5626000.0), (638610.0, 5626000.0), (638610.0, 5603280.0)]\n"
          ]
        }
      ],
      "source": [
        "## lets call the functions\n",
        "\n",
        "image = 'out_rasterio.tif'\n",
        "\n",
        "coords, srs = read_raster(image)"
      ]
    },
    {
      "cell_type": "code",
      "execution_count": 6,
      "metadata": {
        "id": "R7M7f6mL3LOW",
        "outputId": "daf0b79b-115c-4fc3-e8ce-d9bbb5970048",
        "colab": {
          "base_uri": "https://localhost:8080/"
        }
      },
      "outputs": [
        {
          "output_type": "stream",
          "name": "stdout",
          "text": [
            "Creating polygon\n",
            "Done\n"
          ]
        }
      ],
      "source": [
        "## lets now build a geojson file for the footprint\n",
        "\n",
        "## specifiy the name of the geojson file to write to\n",
        "name = 'boundry.geojson'\n",
        "\n",
        "## call the first function passing in coords, srs (projection) and the output name\n",
        "build_bounds(coords, srs, name)"
      ]
    },
    {
      "cell_type": "code",
      "execution_count": 6,
      "metadata": {
        "id": "O0hda9Hk3LOZ"
      },
      "outputs": [],
      "source": [
        ""
      ]
    }
  ],
  "metadata": {
    "kernelspec": {
      "display_name": "Python 2",
      "language": "python",
      "name": "python2"
    },
    "language_info": {
      "codemirror_mode": {
        "name": "ipython",
        "version": 2
      },
      "file_extension": ".py",
      "mimetype": "text/x-python",
      "name": "python",
      "nbconvert_exporter": "python",
      "pygments_lexer": "ipython2",
      "version": "2.7.3"
    },
    "colab": {
      "name": "2_3_Raster_boundary.ipynb",
      "provenance": []
    }
  },
  "nbformat": 4,
  "nbformat_minor": 0
}